{
 "metadata": {
  "language_info": {
   "codemirror_mode": {
    "name": "ipython",
    "version": 3
   },
   "file_extension": ".py",
   "mimetype": "text/x-python",
   "name": "python",
   "nbconvert_exporter": "python",
   "pygments_lexer": "ipython3",
   "version": "3.8.2"
  },
  "orig_nbformat": 2,
  "kernelspec": {
   "name": "python382jvsc74a57bd0aee8b7b246df8f9039afb4144a1f6fd8d2ca17a180786b69acc140d282b71a49",
   "display_name": "Python 3.8.2 64-bit"
  },
  "metadata": {
   "interpreter": {
    "hash": "aee8b7b246df8f9039afb4144a1f6fd8d2ca17a180786b69acc140d282b71a49"
   }
  }
 },
 "nbformat": 4,
 "nbformat_minor": 2,
 "cells": [
  {
   "cell_type": "code",
   "execution_count": 1,
   "metadata": {},
   "outputs": [],
   "source": [
    "import sys\n",
    "sys.path.append(\"/Users/admin/Documents/github/UGFAFAFA/code/\")\n",
    "import logging"
   ]
  },
  {
   "cell_type": "code",
   "execution_count": 2,
   "metadata": {},
   "outputs": [],
   "source": [
    "def log(msf):\n",
    "    pass\n",
    "    # logging.debug(msf)"
   ]
  },
  {
   "source": [
    "#  引入文件\n",
    "from Tusharedata.daily import load\n",
    "import pandas as pd\n",
    "\n",
    "# 加载数据\n",
    "ma = 30\n",
    "df = load(code=\"300059.SZ\")\n",
    "df = df[df[\"date\"] > \"20210101\"]\n",
    "df.index= pd.to_datetime(df[\"date\"])\n",
    "from Analyse.haikui import signal,strategy\n",
    "signal(df,ma)\n",
    "\n",
    "# 加载回测系统\n",
    "from rolltrader.cerebro import Cerebro\n",
    "cerebro = Cerebro()\n",
    "cerebro.strategy = strategy\n",
    "cerebro.data = df\n",
    "cerebro.log = log\n",
    "edf = cerebro.run()\n",
    "\n",
    "df = df.join(edf)\n",
    "result = df[[\"date\",\"cash\",\"position\"]]\n",
    "result\n",
    "\n",
    "\n"
   ],
   "cell_type": "code",
   "metadata": {
    "tags": []
   },
   "execution_count": 3,
   "outputs": [
    {
     "output_type": "stream",
     "name": "stdout",
     "text": [
      "2021-05-16 14:34:01,838 INFO sqlalchemy.engine.Engine BEGIN (implicit)\n",
      "2021-05-16 14:34:01,838 INFO sqlalchemy.engine.Engine PRAGMA main.table_info(\"data_cache\")\n",
      "2021-05-16 14:34:01,839 INFO sqlalchemy.engine.Engine [raw sql] ()\n",
      "2021-05-16 14:34:01,840 INFO sqlalchemy.engine.Engine COMMIT\n",
      "DEBUG:root:>>>>> load DataCache\n",
      "2021-05-16 14:34:01,850 INFO sqlalchemy.engine.Engine BEGIN (implicit)\n",
      "INFO:sqlalchemy.engine.Engine:BEGIN (implicit)\n",
      "2021-05-16 14:34:01,852 INFO sqlalchemy.engine.Engine SELECT data_cache.id AS data_cache_id, data_cache.\"key\" AS data_cache_key, data_cache.value AS data_cache_value \n",
      "FROM data_cache \n",
      "WHERE data_cache.\"key\" = ?\n",
      " LIMIT ? OFFSET ?\n",
      "INFO:sqlalchemy.engine.Engine:SELECT data_cache.id AS data_cache_id, data_cache.\"key\" AS data_cache_key, data_cache.value AS data_cache_value \n",
      "FROM data_cache \n",
      "WHERE data_cache.\"key\" = ?\n",
      " LIMIT ? OFFSET ?\n",
      "2021-05-16 14:34:01,854 INFO sqlalchemy.engine.Engine [generated in 0.00089s] ('daily.300059.sz', 1, 0)\n",
      "INFO:sqlalchemy.engine.Engine:[generated in 0.00089s] ('daily.300059.sz', 1, 0)\n",
      "DEBUG:root:>>>>> load DataCache end\n",
      "DEBUG:root:>>>>> load return data\n",
      "INFO:root:mas BEGIN\n",
      "INFO:root:mas  END\n"
     ]
    },
    {
     "output_type": "execute_result",
     "data": {
      "text/plain": [
       "                date      cash  position\n",
       "date                                    \n",
       "2021-01-04  20210104  10000.00         0\n",
       "2021-01-05  20210105  10000.00         0\n",
       "2021-01-06  20210106  10000.00         0\n",
       "2021-01-07  20210107  10000.00         0\n",
       "2021-01-08  20210108  10000.00         0\n",
       "...              ...       ...       ...\n",
       "2021-05-10  20210510   2526.05       200\n",
       "2021-05-11  20210511   2526.05       200\n",
       "2021-05-12  20210512   2526.05       200\n",
       "2021-05-13  20210513   2526.05       200\n",
       "2021-05-14  20210514   9378.53         0\n",
       "\n",
       "[86 rows x 3 columns]"
      ],
      "text/html": "<div>\n<style scoped>\n    .dataframe tbody tr th:only-of-type {\n        vertical-align: middle;\n    }\n\n    .dataframe tbody tr th {\n        vertical-align: top;\n    }\n\n    .dataframe thead th {\n        text-align: right;\n    }\n</style>\n<table border=\"1\" class=\"dataframe\">\n  <thead>\n    <tr style=\"text-align: right;\">\n      <th></th>\n      <th>date</th>\n      <th>cash</th>\n      <th>position</th>\n    </tr>\n    <tr>\n      <th>date</th>\n      <th></th>\n      <th></th>\n      <th></th>\n    </tr>\n  </thead>\n  <tbody>\n    <tr>\n      <th>2021-01-04</th>\n      <td>20210104</td>\n      <td>10000.00</td>\n      <td>0</td>\n    </tr>\n    <tr>\n      <th>2021-01-05</th>\n      <td>20210105</td>\n      <td>10000.00</td>\n      <td>0</td>\n    </tr>\n    <tr>\n      <th>2021-01-06</th>\n      <td>20210106</td>\n      <td>10000.00</td>\n      <td>0</td>\n    </tr>\n    <tr>\n      <th>2021-01-07</th>\n      <td>20210107</td>\n      <td>10000.00</td>\n      <td>0</td>\n    </tr>\n    <tr>\n      <th>2021-01-08</th>\n      <td>20210108</td>\n      <td>10000.00</td>\n      <td>0</td>\n    </tr>\n    <tr>\n      <th>...</th>\n      <td>...</td>\n      <td>...</td>\n      <td>...</td>\n    </tr>\n    <tr>\n      <th>2021-05-10</th>\n      <td>20210510</td>\n      <td>2526.05</td>\n      <td>200</td>\n    </tr>\n    <tr>\n      <th>2021-05-11</th>\n      <td>20210511</td>\n      <td>2526.05</td>\n      <td>200</td>\n    </tr>\n    <tr>\n      <th>2021-05-12</th>\n      <td>20210512</td>\n      <td>2526.05</td>\n      <td>200</td>\n    </tr>\n    <tr>\n      <th>2021-05-13</th>\n      <td>20210513</td>\n      <td>2526.05</td>\n      <td>200</td>\n    </tr>\n    <tr>\n      <th>2021-05-14</th>\n      <td>20210514</td>\n      <td>9378.53</td>\n      <td>0</td>\n    </tr>\n  </tbody>\n</table>\n<p>86 rows × 3 columns</p>\n</div>"
     },
     "metadata": {},
     "execution_count": 3
    }
   ]
  },
  {
   "cell_type": "code",
   "execution_count": 5,
   "metadata": {},
   "outputs": [
    {
     "output_type": "execute_result",
     "data": {
      "text/plain": [
       "<pyecharts.render.display.HTML at 0x7fdfe83931c0>"
      ],
      "text/html": "\n<script>\n    require.config({\n        paths: {\n            'echarts':'https://assets.pyecharts.org/assets/echarts.min'\n        }\n    });\n</script>\n\n        <div id=\"5db48e7e6e3a46ee96b3821ac652903d\" style=\"width:100%; height:300px;\"></div>\n\n<script>\n        require(['echarts'], function(echarts) {\n                var chart_5db48e7e6e3a46ee96b3821ac652903d = echarts.init(\n                    document.getElementById('5db48e7e6e3a46ee96b3821ac652903d'), 'white', {renderer: 'canvas'});\n                var option_5db48e7e6e3a46ee96b3821ac652903d = {\n    \"animation\": true,\n    \"animationThreshold\": 2000,\n    \"animationDuration\": 1000,\n    \"animationEasing\": \"cubicOut\",\n    \"animationDelay\": 0,\n    \"animationDurationUpdate\": 300,\n    \"animationEasingUpdate\": \"cubicOut\",\n    \"animationDelayUpdate\": 0,\n    \"color\": [\n        \"#c23531\",\n        \"#2f4554\",\n        \"#61a0a8\",\n        \"#d48265\",\n        \"#749f83\",\n        \"#ca8622\",\n        \"#bda29a\",\n        \"#6e7074\",\n        \"#546570\",\n        \"#c4ccd3\",\n        \"#f05b72\",\n        \"#ef5b9c\",\n        \"#f47920\",\n        \"#905a3d\",\n        \"#fab27b\",\n        \"#2a5caa\",\n        \"#444693\",\n        \"#726930\",\n        \"#b2d235\",\n        \"#6d8346\",\n        \"#ac6767\",\n        \"#1d953f\",\n        \"#6950a1\",\n        \"#918597\"\n    ],\n    \"series\": [],\n    \"legend\": [\n        {\n            \"data\": [],\n            \"selected\": {}\n        }\n    ],\n    \"tooltip\": {\n        \"show\": true,\n        \"trigger\": \"item\",\n        \"triggerOn\": \"mousemove|click\",\n        \"axisPointer\": {\n            \"type\": \"line\"\n        },\n        \"showContent\": true,\n        \"alwaysShowContent\": false,\n        \"showDelay\": 0,\n        \"hideDelay\": 100,\n        \"textStyle\": {\n            \"fontSize\": 14\n        },\n        \"borderWidth\": 0,\n        \"padding\": 5\n    },\n    \"xAxis\": [\n        {\n            \"show\": true,\n            \"scale\": false,\n            \"nameLocation\": \"end\",\n            \"nameGap\": 15,\n            \"gridIndex\": 0,\n            \"inverse\": false,\n            \"offset\": 0,\n            \"splitNumber\": 5,\n            \"minInterval\": 0,\n            \"splitLine\": {\n                \"show\": false,\n                \"lineStyle\": {\n                    \"show\": true,\n                    \"width\": 1,\n                    \"opacity\": 1,\n                    \"curveness\": 0,\n                    \"type\": \"solid\"\n                }\n            },\n            \"data\": null\n        }\n    ],\n    \"yAxis\": [\n        {\n            \"show\": true,\n            \"scale\": false,\n            \"nameLocation\": \"end\",\n            \"nameGap\": 15,\n            \"gridIndex\": 0,\n            \"inverse\": false,\n            \"offset\": 0,\n            \"splitNumber\": 5,\n            \"minInterval\": 0,\n            \"splitLine\": {\n                \"show\": false,\n                \"lineStyle\": {\n                    \"show\": true,\n                    \"width\": 1,\n                    \"opacity\": 1,\n                    \"curveness\": 0,\n                    \"type\": \"solid\"\n                }\n            }\n        }\n    ]\n};\n                chart_5db48e7e6e3a46ee96b3821ac652903d.setOption(option_5db48e7e6e3a46ee96b3821ac652903d);\n        });\n    </script>\n"
     },
     "metadata": {},
     "execution_count": 5
    }
   ],
   "source": [
    "# 画图\n",
    "page = cerebro.pycharts()\n",
    "page.render_notebook()"
   ]
  },
  {
   "cell_type": "code",
   "execution_count": null,
   "metadata": {},
   "outputs": [],
   "source": []
  }
 ]
}