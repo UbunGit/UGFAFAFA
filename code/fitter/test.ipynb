{
 "metadata": {
  "language_info": {
   "codemirror_mode": {
    "name": "ipython",
    "version": 3
   },
   "file_extension": ".py",
   "mimetype": "text/x-python",
   "name": "python",
   "nbconvert_exporter": "python",
   "pygments_lexer": "ipython3",
   "version": "3.9.5"
  },
  "orig_nbformat": 2,
  "kernelspec": {
   "name": "python395jvsc74a57bd0aee8b7b246df8f9039afb4144a1f6fd8d2ca17a180786b69acc140d282b71a49",
   "display_name": "Python 3.9.5 64-bit"
  },
  "metadata": {
   "interpreter": {
    "hash": "aee8b7b246df8f9039afb4144a1f6fd8d2ca17a180786b69acc140d282b71a49"
   }
  }
 },
 "nbformat": 4,
 "nbformat_minor": 2,
 "cells": [
  {
   "source": [
    "#  引入文件\n",
    "\n",
    "import sys\n",
    "sys.path.append(\"../../code\")\n",
    "import logging\n",
    "from Tusharedata.daily import load\n",
    "import pandas as pd\n",
    "import numpy as np\n",
    "\n",
    "logging.basicConfig(level=logging.INFO)  # 设置日志级别\n"
   ],
   "cell_type": "code",
   "metadata": {},
   "execution_count": 1,
   "outputs": [
    {
     "output_type": "stream",
     "name": "stdout",
     "text": [
      "2021-05-14 22:55:37,716 INFO sqlalchemy.engine.Engine BEGIN (implicit)\n",
      "2021-05-14 22:55:37,717 INFO sqlalchemy.engine.Engine PRAGMA main.table_info(\"data_cache\")\n",
      "2021-05-14 22:55:37,718 INFO sqlalchemy.engine.Engine [raw sql] ()\n",
      "2021-05-14 22:55:37,720 INFO sqlalchemy.engine.Engine COMMIT\n"
     ]
    }
   ]
  },
  {
   "cell_type": "code",
   "execution_count": 2,
   "metadata": {},
   "outputs": [
    {
     "output_type": "stream",
     "name": "stdout",
     "text": [
      "2021-05-14 22:55:40,428 INFO sqlalchemy.engine.Engine BEGIN (implicit)\n",
      "INFO:sqlalchemy.engine.Engine:BEGIN (implicit)\n",
      "2021-05-14 22:55:40,435 INFO sqlalchemy.engine.Engine SELECT data_cache.id AS data_cache_id, data_cache.\"key\" AS data_cache_key, data_cache.value AS data_cache_value \n",
      "FROM data_cache \n",
      "WHERE data_cache.\"key\" = ?\n",
      " LIMIT ? OFFSET ?\n",
      "INFO:sqlalchemy.engine.Engine:SELECT data_cache.id AS data_cache_id, data_cache.\"key\" AS data_cache_key, data_cache.value AS data_cache_value \n",
      "FROM data_cache \n",
      "WHERE data_cache.\"key\" = ?\n",
      " LIMIT ? OFFSET ?\n",
      "2021-05-14 22:55:40,439 INFO sqlalchemy.engine.Engine [generated in 0.00347s] ('daily.300059.sz', 1, 0)\n",
      "INFO:sqlalchemy.engine.Engine:[generated in 0.00347s] ('daily.300059.sz', 1, 0)\n",
      "INFO:root:mas BEGIN\n",
      "INFO:root:mas  END\n"
     ]
    },
    {
     "output_type": "execute_result",
     "data": {
      "text/plain": [
       "        ts_code      date    open    high     low   close  pre_close  change  \\\n",
       "2645  300059.SZ  20100319  1.3124  1.3382  1.2485  1.2554     0.8731  0.3823   \n",
       "2644  300059.SZ  20100322  1.3146  1.3811  1.2965  1.3811     1.2554  0.1257   \n",
       "2643  300059.SZ  20100323  1.3555  1.4127  1.3451  1.4006     1.3811  0.0195   \n",
       "2642  300059.SZ  20100324  1.4024  1.5381  1.3907  1.4779     1.4006  0.0773   \n",
       "2641  300059.SZ  20100325  1.4777  1.5405  1.4635  1.5013     1.4779  0.0234   \n",
       "\n",
       "      pct_chg        vol        amount      ma5  ma10  ma20  ma30  \n",
       "2645  43.7865  197373.26  1.182394e+06      NaN   NaN   NaN   NaN  \n",
       "2644  10.0127  110103.62  6.935957e+05      NaN   NaN   NaN   NaN  \n",
       "2643   1.4119   85522.14  5.471359e+05      NaN   NaN   NaN   NaN  \n",
       "2642   5.5191   72530.24  4.917786e+05      NaN   NaN   NaN   NaN  \n",
       "2641   1.5833   60225.14  4.190101e+05  1.40326   NaN   NaN   NaN  "
      ],
      "text/html": "<div>\n<style scoped>\n    .dataframe tbody tr th:only-of-type {\n        vertical-align: middle;\n    }\n\n    .dataframe tbody tr th {\n        vertical-align: top;\n    }\n\n    .dataframe thead th {\n        text-align: right;\n    }\n</style>\n<table border=\"1\" class=\"dataframe\">\n  <thead>\n    <tr style=\"text-align: right;\">\n      <th></th>\n      <th>ts_code</th>\n      <th>date</th>\n      <th>open</th>\n      <th>high</th>\n      <th>low</th>\n      <th>close</th>\n      <th>pre_close</th>\n      <th>change</th>\n      <th>pct_chg</th>\n      <th>vol</th>\n      <th>amount</th>\n      <th>ma5</th>\n      <th>ma10</th>\n      <th>ma20</th>\n      <th>ma30</th>\n    </tr>\n  </thead>\n  <tbody>\n    <tr>\n      <th>2645</th>\n      <td>300059.SZ</td>\n      <td>20100319</td>\n      <td>1.3124</td>\n      <td>1.3382</td>\n      <td>1.2485</td>\n      <td>1.2554</td>\n      <td>0.8731</td>\n      <td>0.3823</td>\n      <td>43.7865</td>\n      <td>197373.26</td>\n      <td>1.182394e+06</td>\n      <td>NaN</td>\n      <td>NaN</td>\n      <td>NaN</td>\n      <td>NaN</td>\n    </tr>\n    <tr>\n      <th>2644</th>\n      <td>300059.SZ</td>\n      <td>20100322</td>\n      <td>1.3146</td>\n      <td>1.3811</td>\n      <td>1.2965</td>\n      <td>1.3811</td>\n      <td>1.2554</td>\n      <td>0.1257</td>\n      <td>10.0127</td>\n      <td>110103.62</td>\n      <td>6.935957e+05</td>\n      <td>NaN</td>\n      <td>NaN</td>\n      <td>NaN</td>\n      <td>NaN</td>\n    </tr>\n    <tr>\n      <th>2643</th>\n      <td>300059.SZ</td>\n      <td>20100323</td>\n      <td>1.3555</td>\n      <td>1.4127</td>\n      <td>1.3451</td>\n      <td>1.4006</td>\n      <td>1.3811</td>\n      <td>0.0195</td>\n      <td>1.4119</td>\n      <td>85522.14</td>\n      <td>5.471359e+05</td>\n      <td>NaN</td>\n      <td>NaN</td>\n      <td>NaN</td>\n      <td>NaN</td>\n    </tr>\n    <tr>\n      <th>2642</th>\n      <td>300059.SZ</td>\n      <td>20100324</td>\n      <td>1.4024</td>\n      <td>1.5381</td>\n      <td>1.3907</td>\n      <td>1.4779</td>\n      <td>1.4006</td>\n      <td>0.0773</td>\n      <td>5.5191</td>\n      <td>72530.24</td>\n      <td>4.917786e+05</td>\n      <td>NaN</td>\n      <td>NaN</td>\n      <td>NaN</td>\n      <td>NaN</td>\n    </tr>\n    <tr>\n      <th>2641</th>\n      <td>300059.SZ</td>\n      <td>20100325</td>\n      <td>1.4777</td>\n      <td>1.5405</td>\n      <td>1.4635</td>\n      <td>1.5013</td>\n      <td>1.4779</td>\n      <td>0.0234</td>\n      <td>1.5833</td>\n      <td>60225.14</td>\n      <td>4.190101e+05</td>\n      <td>1.40326</td>\n      <td>NaN</td>\n      <td>NaN</td>\n      <td>NaN</td>\n    </tr>\n  </tbody>\n</table>\n</div>"
     },
     "metadata": {},
     "execution_count": 2
    }
   ],
   "source": [
    "# 预定义\n",
    "from Tusharedata.lib import mas\n",
    "code = \"300059.SZ\"\n",
    "ma = 30\n",
    "df = load(code)\n",
    "mas(df,[5,10,20,30])\n",
    "df.head()"
   ]
  },
  {
   "source": [
    "# 计算收盘价与均线之间的差距\n",
    "\n",
    "df[\"close_ma\"] = df[\"close\"]-df[\"ma\"+str(ma)] / df[\"ma\"+str(ma)]\n",
    "max_abs_scaler = lambda x : 2*((x-np.min(x))/(np.max(x)-np.min(x)))-1\n",
    "\n",
    "# 收盘价是否大于均线并归一化\n",
    "df[\"signa0\"] = (df[\"close\"]>df[\"ma\"+str(ma)]).astype(int)\n",
    "df[\"signa0\"] = df[[\"signa0\"]].apply(max_abs_scaler) \n",
    "\n",
    "# 收盘价差价归一化 + 平方\n",
    "df[\"signal1\"] = df[[\"close_ma\"]].apply(max_abs_scaler) \n",
    "df[\"signal1\"] = np.square(df[\"signal1\"])\n",
    "\n",
    "# 计算最终买卖信号\n",
    "df[\"signal\"] = df[\"signa0\"] *  df[\"signal1\"]\n",
    "\n",
    "df\n"
   ],
   "cell_type": "code",
   "metadata": {},
   "execution_count": 5,
   "outputs": [
    {
     "output_type": "execute_result",
     "data": {
      "text/plain": [
       "        ts_code      date     open     high      low    close  pre_close  \\\n",
       "2645  300059.SZ  20100319   1.3124   1.3382   1.2485   1.2554     0.8731   \n",
       "2644  300059.SZ  20100322   1.3146   1.3811   1.2965   1.3811     1.2554   \n",
       "2643  300059.SZ  20100323   1.3555   1.4127   1.3451   1.4006     1.3811   \n",
       "2642  300059.SZ  20100324   1.4024   1.5381   1.3907   1.4779     1.4006   \n",
       "2641  300059.SZ  20100325   1.4777   1.5405   1.4635   1.5013     1.4779   \n",
       "...         ...       ...      ...      ...      ...      ...        ...   \n",
       "4     300059.SZ  20210510  30.1500  30.3000  29.5200  29.9900    30.1900   \n",
       "3     300059.SZ  20210511  29.7100  30.9900  29.4000  30.6600    29.9900   \n",
       "2     300059.SZ  20210512  30.2000  30.5300  30.0000  30.4600    30.6600   \n",
       "1     300059.SZ  20210513  30.0000  30.9500  29.9200  30.5000    30.4600   \n",
       "0     300059.SZ  20210514  30.9000  34.8900  30.8600  34.4000    30.5000   \n",
       "\n",
       "      change  pct_chg         vol        amount       ma5    ma10     ma20  \\\n",
       "2645  0.3823  43.7865   197373.26  1.182394e+06       NaN     NaN      NaN   \n",
       "2644  0.1257  10.0127   110103.62  6.935957e+05       NaN     NaN      NaN   \n",
       "2643  0.0195   1.4119    85522.14  5.471359e+05       NaN     NaN      NaN   \n",
       "2642  0.0773   5.5191    72530.24  4.917786e+05       NaN     NaN      NaN   \n",
       "2641  0.0234   1.5833    60225.14  4.190101e+05   1.40326     NaN      NaN   \n",
       "...      ...      ...         ...           ...       ...     ...      ...   \n",
       "4    -0.2000  -0.6625  1376235.18  4.108786e+06  31.14200  31.079  29.7890   \n",
       "3     0.6700   2.2341  1713750.31  5.172820e+06  30.87600  31.094  29.9170   \n",
       "2    -0.2000  -0.6523  1135110.07  3.439102e+06  30.52000  30.981  30.0560   \n",
       "1     0.0400   0.1313  1140028.75  3.466521e+06  30.36000  30.929  30.2385   \n",
       "0     3.9000  12.7869  4533814.60  1.499064e+07  31.20200  31.348  30.6065   \n",
       "\n",
       "           ma30  close_ma  signa0   signal1    signal  \n",
       "2645        NaN       NaN    -1.0       NaN       NaN  \n",
       "2644        NaN       NaN    -1.0       NaN       NaN  \n",
       "2643        NaN       NaN    -1.0       NaN       NaN  \n",
       "2642        NaN       NaN    -1.0       NaN       NaN  \n",
       "2641        NaN       NaN    -1.0       NaN       NaN  \n",
       "...         ...       ...     ...       ...       ...  \n",
       "4     29.157333     28.99     1.0  0.256766  0.256766  \n",
       "3     29.277000     29.66     1.0  0.292495  0.292495  \n",
       "2     29.384667     29.46     1.0  0.281586  0.281586  \n",
       "1     29.464667     29.50     1.0  0.283751  0.283751  \n",
       "0     29.685667     33.40     1.0  0.534677  0.534677  \n",
       "\n",
       "[2646 rows x 19 columns]"
      ],
      "text/html": "<div>\n<style scoped>\n    .dataframe tbody tr th:only-of-type {\n        vertical-align: middle;\n    }\n\n    .dataframe tbody tr th {\n        vertical-align: top;\n    }\n\n    .dataframe thead th {\n        text-align: right;\n    }\n</style>\n<table border=\"1\" class=\"dataframe\">\n  <thead>\n    <tr style=\"text-align: right;\">\n      <th></th>\n      <th>ts_code</th>\n      <th>date</th>\n      <th>open</th>\n      <th>high</th>\n      <th>low</th>\n      <th>close</th>\n      <th>pre_close</th>\n      <th>change</th>\n      <th>pct_chg</th>\n      <th>vol</th>\n      <th>amount</th>\n      <th>ma5</th>\n      <th>ma10</th>\n      <th>ma20</th>\n      <th>ma30</th>\n      <th>close_ma</th>\n      <th>signa0</th>\n      <th>signal1</th>\n      <th>signal</th>\n    </tr>\n  </thead>\n  <tbody>\n    <tr>\n      <th>2645</th>\n      <td>300059.SZ</td>\n      <td>20100319</td>\n      <td>1.3124</td>\n      <td>1.3382</td>\n      <td>1.2485</td>\n      <td>1.2554</td>\n      <td>0.8731</td>\n      <td>0.3823</td>\n      <td>43.7865</td>\n      <td>197373.26</td>\n      <td>1.182394e+06</td>\n      <td>NaN</td>\n      <td>NaN</td>\n      <td>NaN</td>\n      <td>NaN</td>\n      <td>NaN</td>\n      <td>-1.0</td>\n      <td>NaN</td>\n      <td>NaN</td>\n    </tr>\n    <tr>\n      <th>2644</th>\n      <td>300059.SZ</td>\n      <td>20100322</td>\n      <td>1.3146</td>\n      <td>1.3811</td>\n      <td>1.2965</td>\n      <td>1.3811</td>\n      <td>1.2554</td>\n      <td>0.1257</td>\n      <td>10.0127</td>\n      <td>110103.62</td>\n      <td>6.935957e+05</td>\n      <td>NaN</td>\n      <td>NaN</td>\n      <td>NaN</td>\n      <td>NaN</td>\n      <td>NaN</td>\n      <td>-1.0</td>\n      <td>NaN</td>\n      <td>NaN</td>\n    </tr>\n    <tr>\n      <th>2643</th>\n      <td>300059.SZ</td>\n      <td>20100323</td>\n      <td>1.3555</td>\n      <td>1.4127</td>\n      <td>1.3451</td>\n      <td>1.4006</td>\n      <td>1.3811</td>\n      <td>0.0195</td>\n      <td>1.4119</td>\n      <td>85522.14</td>\n      <td>5.471359e+05</td>\n      <td>NaN</td>\n      <td>NaN</td>\n      <td>NaN</td>\n      <td>NaN</td>\n      <td>NaN</td>\n      <td>-1.0</td>\n      <td>NaN</td>\n      <td>NaN</td>\n    </tr>\n    <tr>\n      <th>2642</th>\n      <td>300059.SZ</td>\n      <td>20100324</td>\n      <td>1.4024</td>\n      <td>1.5381</td>\n      <td>1.3907</td>\n      <td>1.4779</td>\n      <td>1.4006</td>\n      <td>0.0773</td>\n      <td>5.5191</td>\n      <td>72530.24</td>\n      <td>4.917786e+05</td>\n      <td>NaN</td>\n      <td>NaN</td>\n      <td>NaN</td>\n      <td>NaN</td>\n      <td>NaN</td>\n      <td>-1.0</td>\n      <td>NaN</td>\n      <td>NaN</td>\n    </tr>\n    <tr>\n      <th>2641</th>\n      <td>300059.SZ</td>\n      <td>20100325</td>\n      <td>1.4777</td>\n      <td>1.5405</td>\n      <td>1.4635</td>\n      <td>1.5013</td>\n      <td>1.4779</td>\n      <td>0.0234</td>\n      <td>1.5833</td>\n      <td>60225.14</td>\n      <td>4.190101e+05</td>\n      <td>1.40326</td>\n      <td>NaN</td>\n      <td>NaN</td>\n      <td>NaN</td>\n      <td>NaN</td>\n      <td>-1.0</td>\n      <td>NaN</td>\n      <td>NaN</td>\n    </tr>\n    <tr>\n      <th>...</th>\n      <td>...</td>\n      <td>...</td>\n      <td>...</td>\n      <td>...</td>\n      <td>...</td>\n      <td>...</td>\n      <td>...</td>\n      <td>...</td>\n      <td>...</td>\n      <td>...</td>\n      <td>...</td>\n      <td>...</td>\n      <td>...</td>\n      <td>...</td>\n      <td>...</td>\n      <td>...</td>\n      <td>...</td>\n      <td>...</td>\n      <td>...</td>\n    </tr>\n    <tr>\n      <th>4</th>\n      <td>300059.SZ</td>\n      <td>20210510</td>\n      <td>30.1500</td>\n      <td>30.3000</td>\n      <td>29.5200</td>\n      <td>29.9900</td>\n      <td>30.1900</td>\n      <td>-0.2000</td>\n      <td>-0.6625</td>\n      <td>1376235.18</td>\n      <td>4.108786e+06</td>\n      <td>31.14200</td>\n      <td>31.079</td>\n      <td>29.7890</td>\n      <td>29.157333</td>\n      <td>28.99</td>\n      <td>1.0</td>\n      <td>0.256766</td>\n      <td>0.256766</td>\n    </tr>\n    <tr>\n      <th>3</th>\n      <td>300059.SZ</td>\n      <td>20210511</td>\n      <td>29.7100</td>\n      <td>30.9900</td>\n      <td>29.4000</td>\n      <td>30.6600</td>\n      <td>29.9900</td>\n      <td>0.6700</td>\n      <td>2.2341</td>\n      <td>1713750.31</td>\n      <td>5.172820e+06</td>\n      <td>30.87600</td>\n      <td>31.094</td>\n      <td>29.9170</td>\n      <td>29.277000</td>\n      <td>29.66</td>\n      <td>1.0</td>\n      <td>0.292495</td>\n      <td>0.292495</td>\n    </tr>\n    <tr>\n      <th>2</th>\n      <td>300059.SZ</td>\n      <td>20210512</td>\n      <td>30.2000</td>\n      <td>30.5300</td>\n      <td>30.0000</td>\n      <td>30.4600</td>\n      <td>30.6600</td>\n      <td>-0.2000</td>\n      <td>-0.6523</td>\n      <td>1135110.07</td>\n      <td>3.439102e+06</td>\n      <td>30.52000</td>\n      <td>30.981</td>\n      <td>30.0560</td>\n      <td>29.384667</td>\n      <td>29.46</td>\n      <td>1.0</td>\n      <td>0.281586</td>\n      <td>0.281586</td>\n    </tr>\n    <tr>\n      <th>1</th>\n      <td>300059.SZ</td>\n      <td>20210513</td>\n      <td>30.0000</td>\n      <td>30.9500</td>\n      <td>29.9200</td>\n      <td>30.5000</td>\n      <td>30.4600</td>\n      <td>0.0400</td>\n      <td>0.1313</td>\n      <td>1140028.75</td>\n      <td>3.466521e+06</td>\n      <td>30.36000</td>\n      <td>30.929</td>\n      <td>30.2385</td>\n      <td>29.464667</td>\n      <td>29.50</td>\n      <td>1.0</td>\n      <td>0.283751</td>\n      <td>0.283751</td>\n    </tr>\n    <tr>\n      <th>0</th>\n      <td>300059.SZ</td>\n      <td>20210514</td>\n      <td>30.9000</td>\n      <td>34.8900</td>\n      <td>30.8600</td>\n      <td>34.4000</td>\n      <td>30.5000</td>\n      <td>3.9000</td>\n      <td>12.7869</td>\n      <td>4533814.60</td>\n      <td>1.499064e+07</td>\n      <td>31.20200</td>\n      <td>31.348</td>\n      <td>30.6065</td>\n      <td>29.685667</td>\n      <td>33.40</td>\n      <td>1.0</td>\n      <td>0.534677</td>\n      <td>0.534677</td>\n    </tr>\n  </tbody>\n</table>\n<p>2646 rows × 19 columns</p>\n</div>"
     },
     "metadata": {},
     "execution_count": 5
    }
   ]
  },
  {
   "cell_type": "code",
   "execution_count": 22,
   "metadata": {},
   "outputs": [
    {
     "output_type": "stream",
     "name": "stdout",
     "text": [
      "begin:None\n",
      "end:None\n",
      "signal:signal\n",
      "initial:10000\n",
      "end:{'date': '20210514', 'bmoney': 6880.0, 'count': 200, 'bprice': 34.4}\n",
      "count:1\n",
      "bandans:2892.547999999999\n",
      "free:13.452000000000014\n",
      "          date     assets\n",
      "0     20160104  10000.000\n",
      "1     20160105  10000.000\n",
      "2     20160106  10000.000\n",
      "3     20160107  10000.000\n",
      "4     20160108  10000.000\n",
      "...        ...        ...\n",
      "1294  20210510   9772.548\n",
      "1295  20210511   9772.548\n",
      "1296  20210512   9772.548\n",
      "1297  20210513   9772.548\n",
      "1298  20210514   6880.000\n",
      "\n",
      "[1299 rows x 2 columns]\n",
      "end... back_trading\n",
      "/Users/admin/Documents/GitHub/UGFAFAFA/code/fitter/../../code/Analyse/back_trading.py:85: SettingWithCopyWarning: \n",
      "A value is trying to be set on a copy of a slice from a DataFrame.\n",
      "Try using .loc[row_indexer,col_indexer] = value instead\n",
      "\n",
      "See the caveats in the documentation: https://pandas.pydata.org/pandas-docs/stable/user_guide/indexing.html#returning-a-view-versus-a-copy\n",
      "  df[\"assets\"] = assets\n"
     ]
    },
    {
     "output_type": "error",
     "ename": "AttributeError",
     "evalue": "module 'matplotlib' has no attribute 'show'",
     "traceback": [
      "\u001b[0;31m---------------------------------------------------------------------------\u001b[0m",
      "\u001b[0;31mAttributeError\u001b[0m                            Traceback (most recent call last)",
      "\u001b[0;32m<ipython-input-22-1d19f3d0651a>\u001b[0m in \u001b[0;36m<module>\u001b[0;34m\u001b[0m\n\u001b[1;32m      8\u001b[0m \u001b[0mef\u001b[0m\u001b[0;34m[\u001b[0m\u001b[0;34m\"assetsd\"\u001b[0m\u001b[0;34m]\u001b[0m \u001b[0;34m=\u001b[0m \u001b[0mef\u001b[0m\u001b[0;34m[\u001b[0m\u001b[0;34m\"assets\"\u001b[0m\u001b[0;34m]\u001b[0m \u001b[0;34m/\u001b[0m \u001b[0;34m(\u001b[0m\u001b[0mef\u001b[0m\u001b[0;34m[\u001b[0m\u001b[0;34m\"assets\"\u001b[0m\u001b[0;34m]\u001b[0m\u001b[0;34m.\u001b[0m\u001b[0miloc\u001b[0m\u001b[0;34m[\u001b[0m\u001b[0;36m1\u001b[0m\u001b[0;34m]\u001b[0m\u001b[0;34m)\u001b[0m\u001b[0;34m\u001b[0m\u001b[0;34m\u001b[0m\u001b[0m\n\u001b[1;32m      9\u001b[0m \u001b[0mef\u001b[0m\u001b[0;34m[\u001b[0m\u001b[0;34m[\u001b[0m\u001b[0;34m\"closed\"\u001b[0m\u001b[0;34m,\u001b[0m\u001b[0;34m\"assetsd\"\u001b[0m\u001b[0;34m]\u001b[0m\u001b[0;34m]\u001b[0m\u001b[0;34m.\u001b[0m\u001b[0mplot\u001b[0m\u001b[0;34m(\u001b[0m\u001b[0;34m)\u001b[0m\u001b[0;34m\u001b[0m\u001b[0;34m\u001b[0m\u001b[0m\n\u001b[0;32m---> 10\u001b[0;31m \u001b[0mplot\u001b[0m\u001b[0;34m.\u001b[0m\u001b[0mshow\u001b[0m\u001b[0;34m(\u001b[0m\u001b[0;34m)\u001b[0m\u001b[0;34m\u001b[0m\u001b[0;34m\u001b[0m\u001b[0m\n\u001b[0m",
      "\u001b[0;31mAttributeError\u001b[0m: module 'matplotlib' has no attribute 'show'"
     ]
    }
   ],
   "source": [
    "from Analyse.back_trading import back_trading\n",
    "ef = df[df[\"date\"]>\"20160101\"]\n",
    "ef = back_trading(ef,buyfix=0.5, sellfix = 0.1)\n",
    "ef[[\"date\",\"signal\",\"assets\"]]\n",
    "\n",
    "import matplotlib.pyplot as plt\n",
    "ef[\"closed\"] =  ef[\"close\"]/(ef[\"close\"].iloc[1])\n",
    "ef[\"assetsd\"] = ef[\"assets\"] / (ef[\"assets\"].iloc[1])\n",
    "ef[[\"closed\",\"assetsd\"]].plot()\n",
    "plt.show()"
   ]
  },
  {
   "cell_type": "code",
   "execution_count": null,
   "metadata": {},
   "outputs": [],
   "source": []
  }
 ]
}