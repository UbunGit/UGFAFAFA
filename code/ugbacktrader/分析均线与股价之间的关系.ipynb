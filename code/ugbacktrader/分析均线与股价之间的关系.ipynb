{
 "cells": [
  {
   "source": [
    "# 预定义数据\n",
    "code = \"300059.SZ\"\n",
    "ma = 10\n",
    "begin = \"20160101\"\n"
   ],
   "cell_type": "code",
   "metadata": {},
   "execution_count": null,
   "outputs": []
  },
  {
   "source": [
    "# 导入本地文件\n",
    "import sys\n",
    "sys.path.append(\"/Users/admin/Documents/github/UGFAFAFA/code/\")"
   ],
   "cell_type": "code",
   "metadata": {},
   "execution_count": null,
   "outputs": []
  },
  {
   "source": [
    "### 导入包"
   ],
   "cell_type": "code",
   "metadata": {},
   "execution_count": null,
   "outputs": []
  },
  {
   "source": [
    "import os\n",
    "import pandas as pd\n",
    "import numpy as np\n",
    "import talib as tlb\n",
    "import matplotlib.pyplot as plt\n",
    "from sklearn.preprocessing import MinMaxScaler"
   ],
   "cell_type": "code",
   "metadata": {},
   "execution_count": null,
   "outputs": []
  },
  {
   "source": [
    "### 加载数据"
   ],
   "cell_type": "markdown",
   "metadata": {}
  },
  {
   "source": [
    "from Tusharedata.daily import load\n",
    "df = load(code=code)\n",
    "# df = df[df[\"date\"] > \"20210101\"]\n",
    "\n",
    "df.head()"
   ],
   "cell_type": "code",
   "metadata": {},
   "execution_count": null,
   "outputs": []
  },
  {
   "source": [
    "from Tusharedata.lib import mas\n",
    "mas(df, [ma])\n",
    "df[\"signal_0\"] = (df[\"close\"]-df[\"ma\"+str(ma)]) / df[\"ma\"+str(ma)]\n",
    "s0max = df[\"signal_0\"].max()\n",
    "s0min = df[\"signal_0\"].min()\n",
    "df[\"signal_1\"] = (df[\"signal_0\"]-s0min)/(s0max-s0min)\n",
    "df[\"signal_2\"] = (2*df[\"signal_1\"])-1\n",
    "df[\"signal_3\"] = -np.square(df[\"signal_2\"]) + 1 \n",
    "df[\"signal_4\"] = df[\"signal_0\"]>0\n",
    "df[\"signal_4\"] = df[\"signal_4\"].astype(\"int\")\n",
    "df[\"signal_4\"] = (2*df[\"signal_4\"])-1\n",
    "df[\"signal\"] = df[\"signal_4\"]*df[\"signal_3\"]\n",
    "df[[\"signal_0\",\"signal_4\",\"signal\"]]\n",
    "# print(df[\"signal\"].describe())\n"
   ],
   "cell_type": "code",
   "metadata": {
    "tags": []
   },
   "execution_count": null,
   "outputs": []
  },
  {
   "cell_type": "code",
   "execution_count": null,
   "metadata": {
    "tags": [
     "outputPrepend"
    ]
   },
   "outputs": [],
   "source": [
    "# 回测\n",
    "from Analyse.back_trading import back_trading\n",
    "df = df[df[\"date\"] > begin]\n",
    "df = back_trading(df)\n",
    "df[\"closev\"] = df[\"close\"]/(df[\"close\"].iloc[1])\n",
    "df[\"assetsv\"] = df[\"assets\"]/10000\n",
    "df.to_csv(\"/Users/admin/Documents/github/UGFAFAFA/data/tem/test.csv\")\n",
    "df[[\"closev\",\"assetsv\"]].plot()\n",
    "plt.show()\n"
   ]
  },
  {
   "cell_type": "code",
   "execution_count": null,
   "metadata": {},
   "outputs": [],
   "source": [
    "from chart.kline import kline\n",
    "kline(df,height = \"550px\").render(\"/Users/admin/Documents/github/UGFAFAFA/data/tem/line.html\")"
   ]
  },
  {
   "cell_type": "code",
   "execution_count": null,
   "metadata": {},
   "outputs": [],
   "source": []
  }
 ],
 "metadata": {
  "kernelspec": {
   "name": "python390jvsc74a57bd0aee8b7b246df8f9039afb4144a1f6fd8d2ca17a180786b69acc140d282b71a49",
   "display_name": "Python 3.9.0 64-bit"
  },
  "language_info": {
   "codemirror_mode": {
    "name": "ipython",
    "version": 3
   },
   "file_extension": ".py",
   "mimetype": "text/x-python",
   "name": "python",
   "nbconvert_exporter": "python",
   "pygments_lexer": "ipython3",
   "version": "3.9.0"
  },
  "metadata": {
   "interpreter": {
    "hash": "aee8b7b246df8f9039afb4144a1f6fd8d2ca17a180786b69acc140d282b71a49"
   }
  }
 },
 "nbformat": 4,
 "nbformat_minor": 4
}