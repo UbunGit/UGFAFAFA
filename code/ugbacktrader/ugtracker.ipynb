{
 "metadata": {
  "language_info": {
   "codemirror_mode": {
    "name": "ipython",
    "version": 3
   },
   "file_extension": ".py",
   "mimetype": "text/x-python",
   "name": "python",
   "nbconvert_exporter": "python",
   "pygments_lexer": "ipython3",
   "version": "3.9.0"
  },
  "orig_nbformat": 2,
  "kernelspec": {
   "name": "python390jvsc74a57bd0aee8b7b246df8f9039afb4144a1f6fd8d2ca17a180786b69acc140d282b71a49",
   "display_name": "Python 3.9.0 64-bit"
  },
  "metadata": {
   "interpreter": {
    "hash": "aee8b7b246df8f9039afb4144a1f6fd8d2ca17a180786b69acc140d282b71a49"
   }
  }
 },
 "nbformat": 4,
 "nbformat_minor": 2,
 "cells": [
  {
   "cell_type": "code",
   "execution_count": 1,
   "metadata": {},
   "outputs": [
    {
     "output_type": "stream",
     "name": "stdout",
     "text": [
      "2021-05-15 13:05:25,378 INFO sqlalchemy.engine.base.Engine SELECT CAST('test plain returns' AS VARCHAR(60)) AS anon_1\n",
      "2021-05-15 13:05:25,378 INFO sqlalchemy.engine.base.Engine ()\n",
      "2021-05-15 13:05:25,380 INFO sqlalchemy.engine.base.Engine SELECT CAST('test unicode returns' AS VARCHAR(60)) AS anon_1\n",
      "2021-05-15 13:05:25,381 INFO sqlalchemy.engine.base.Engine ()\n",
      "2021-05-15 13:05:25,394 INFO sqlalchemy.engine.base.Engine PRAGMA main.table_info(\"data_cache\")\n",
      "2021-05-15 13:05:25,410 INFO sqlalchemy.engine.base.Engine ()\n"
     ]
    }
   ],
   "source": [
    "\n",
    "import logging\n",
    "import sys\n",
    "sys.path.append(\"../../code\")\n",
    "from Tusharedata.daily import load\n",
    "import backtrader as bt\n",
    "import pandas as pd\n",
    "\n"
   ]
  },
  {
   "cell_type": "code",
   "execution_count": 2,
   "metadata": {
    "tags": []
   },
   "outputs": [
    {
     "output_type": "stream",
     "name": "stderr",
     "text": [
      "DEBUG:root:>>>>> load DataCache\n",
      "2021-05-15 13:05:29,283 INFO sqlalchemy.engine.base.Engine BEGIN (implicit)\n",
      "INFO:sqlalchemy.engine.base.Engine:BEGIN (implicit)\n",
      "2021-05-15 13:05:29,300 INFO sqlalchemy.engine.base.Engine SELECT data_cache.id AS data_cache_id, data_cache.\"key\" AS data_cache_key, data_cache.value AS data_cache_value \n",
      "FROM data_cache \n",
      "WHERE data_cache.\"key\" = ?\n",
      " LIMIT ? OFFSET ?\n",
      "INFO:sqlalchemy.engine.base.Engine:SELECT data_cache.id AS data_cache_id, data_cache.\"key\" AS data_cache_key, data_cache.value AS data_cache_value \n",
      "FROM data_cache \n",
      "WHERE data_cache.\"key\" = ?\n",
      " LIMIT ? OFFSET ?\n",
      "2021-05-15 13:05:29,317 INFO sqlalchemy.engine.base.Engine ('daily.300059.sz', 1, 0)\n",
      "INFO:sqlalchemy.engine.base.Engine:('daily.300059.sz', 1, 0)\n",
      "DEBUG:root:>>>>> load DataCache end\n",
      "DEBUG:root:>>>>> load return data\n"
     ]
    },
    {
     "output_type": "execute_result",
     "data": {
      "text/plain": [
       "               open     high      low    close         vol      ma5    ma10  \\\n",
       "date                                                                          \n",
       "2010-03-19   1.3124   1.3382   1.2485   1.2554   197373.26      NaN     NaN   \n",
       "2010-03-22   1.3146   1.3811   1.2965   1.3811   110103.62      NaN     NaN   \n",
       "2010-03-23   1.3555   1.4127   1.3451   1.4006    85522.14      NaN     NaN   \n",
       "2010-03-24   1.4024   1.5381   1.3907   1.4779    72530.24      NaN     NaN   \n",
       "2010-03-25   1.4777   1.5405   1.4635   1.5013    60225.14   1.4033     NaN   \n",
       "...             ...      ...      ...      ...         ...      ...     ...   \n",
       "2021-05-10  30.1500  30.3000  29.5200  29.9900  1376235.18  31.1420  31.079   \n",
       "2021-05-11  29.7100  30.9900  29.4000  30.6600  1713750.31  30.8760  31.094   \n",
       "2021-05-12  30.2000  30.5300  30.0000  30.4600  1135110.07  30.5200  30.981   \n",
       "2021-05-13  30.0000  30.9500  29.9200  30.5000  1140028.75  30.3600  30.929   \n",
       "2021-05-14  30.9000  34.8900  30.8600  34.4000  4533814.60  31.2020  31.348   \n",
       "\n",
       "               ma20     ma30  \n",
       "date                          \n",
       "2010-03-19      NaN      NaN  \n",
       "2010-03-22      NaN      NaN  \n",
       "2010-03-23      NaN      NaN  \n",
       "2010-03-24      NaN      NaN  \n",
       "2010-03-25      NaN      NaN  \n",
       "...             ...      ...  \n",
       "2021-05-10  29.7890  29.1573  \n",
       "2021-05-11  29.9170  29.2770  \n",
       "2021-05-12  30.0560  29.3847  \n",
       "2021-05-13  30.2385  29.4647  \n",
       "2021-05-14  30.6065  29.6857  \n",
       "\n",
       "[2646 rows x 9 columns]"
      ],
      "text/html": "<div>\n<style scoped>\n    .dataframe tbody tr th:only-of-type {\n        vertical-align: middle;\n    }\n\n    .dataframe tbody tr th {\n        vertical-align: top;\n    }\n\n    .dataframe thead th {\n        text-align: right;\n    }\n</style>\n<table border=\"1\" class=\"dataframe\">\n  <thead>\n    <tr style=\"text-align: right;\">\n      <th></th>\n      <th>open</th>\n      <th>high</th>\n      <th>low</th>\n      <th>close</th>\n      <th>vol</th>\n      <th>ma5</th>\n      <th>ma10</th>\n      <th>ma20</th>\n      <th>ma30</th>\n    </tr>\n    <tr>\n      <th>date</th>\n      <th></th>\n      <th></th>\n      <th></th>\n      <th></th>\n      <th></th>\n      <th></th>\n      <th></th>\n      <th></th>\n      <th></th>\n    </tr>\n  </thead>\n  <tbody>\n    <tr>\n      <th>2010-03-19</th>\n      <td>1.3124</td>\n      <td>1.3382</td>\n      <td>1.2485</td>\n      <td>1.2554</td>\n      <td>197373.26</td>\n      <td>NaN</td>\n      <td>NaN</td>\n      <td>NaN</td>\n      <td>NaN</td>\n    </tr>\n    <tr>\n      <th>2010-03-22</th>\n      <td>1.3146</td>\n      <td>1.3811</td>\n      <td>1.2965</td>\n      <td>1.3811</td>\n      <td>110103.62</td>\n      <td>NaN</td>\n      <td>NaN</td>\n      <td>NaN</td>\n      <td>NaN</td>\n    </tr>\n    <tr>\n      <th>2010-03-23</th>\n      <td>1.3555</td>\n      <td>1.4127</td>\n      <td>1.3451</td>\n      <td>1.4006</td>\n      <td>85522.14</td>\n      <td>NaN</td>\n      <td>NaN</td>\n      <td>NaN</td>\n      <td>NaN</td>\n    </tr>\n    <tr>\n      <th>2010-03-24</th>\n      <td>1.4024</td>\n      <td>1.5381</td>\n      <td>1.3907</td>\n      <td>1.4779</td>\n      <td>72530.24</td>\n      <td>NaN</td>\n      <td>NaN</td>\n      <td>NaN</td>\n      <td>NaN</td>\n    </tr>\n    <tr>\n      <th>2010-03-25</th>\n      <td>1.4777</td>\n      <td>1.5405</td>\n      <td>1.4635</td>\n      <td>1.5013</td>\n      <td>60225.14</td>\n      <td>1.4033</td>\n      <td>NaN</td>\n      <td>NaN</td>\n      <td>NaN</td>\n    </tr>\n    <tr>\n      <th>...</th>\n      <td>...</td>\n      <td>...</td>\n      <td>...</td>\n      <td>...</td>\n      <td>...</td>\n      <td>...</td>\n      <td>...</td>\n      <td>...</td>\n      <td>...</td>\n    </tr>\n    <tr>\n      <th>2021-05-10</th>\n      <td>30.1500</td>\n      <td>30.3000</td>\n      <td>29.5200</td>\n      <td>29.9900</td>\n      <td>1376235.18</td>\n      <td>31.1420</td>\n      <td>31.079</td>\n      <td>29.7890</td>\n      <td>29.1573</td>\n    </tr>\n    <tr>\n      <th>2021-05-11</th>\n      <td>29.7100</td>\n      <td>30.9900</td>\n      <td>29.4000</td>\n      <td>30.6600</td>\n      <td>1713750.31</td>\n      <td>30.8760</td>\n      <td>31.094</td>\n      <td>29.9170</td>\n      <td>29.2770</td>\n    </tr>\n    <tr>\n      <th>2021-05-12</th>\n      <td>30.2000</td>\n      <td>30.5300</td>\n      <td>30.0000</td>\n      <td>30.4600</td>\n      <td>1135110.07</td>\n      <td>30.5200</td>\n      <td>30.981</td>\n      <td>30.0560</td>\n      <td>29.3847</td>\n    </tr>\n    <tr>\n      <th>2021-05-13</th>\n      <td>30.0000</td>\n      <td>30.9500</td>\n      <td>29.9200</td>\n      <td>30.5000</td>\n      <td>1140028.75</td>\n      <td>30.3600</td>\n      <td>30.929</td>\n      <td>30.2385</td>\n      <td>29.4647</td>\n    </tr>\n    <tr>\n      <th>2021-05-14</th>\n      <td>30.9000</td>\n      <td>34.8900</td>\n      <td>30.8600</td>\n      <td>34.4000</td>\n      <td>4533814.60</td>\n      <td>31.2020</td>\n      <td>31.348</td>\n      <td>30.6065</td>\n      <td>29.6857</td>\n    </tr>\n  </tbody>\n</table>\n<p>2646 rows × 9 columns</p>\n</div>"
     },
     "metadata": {},
     "execution_count": 2
    }
   ],
   "source": [
    "# 获取数据\n",
    "\n",
    "df = load(code=\"300059.SZ\")\n",
    "df.index=pd.to_datetime(df.date)\n",
    "df = df[['open','high','low','close','vol',\"ma5\",\"ma10\",\"ma20\",\"ma30\"]]\n",
    "df"
   ]
  },
  {
   "cell_type": "code",
   "execution_count": 5,
   "metadata": {},
   "outputs": [
    {
     "output_type": "stream",
     "name": "stderr",
     "text": [
      "DEBUG:root:Starting Portfolio Value: 100000.00\n",
      "DEBUG:root:Final Portfolio Value: 100000.00\n"
     ]
    }
   ],
   "source": [
    "\n",
    "cerebro = bt.Cerebro()\n",
    "#broker设置资金、手续费\n",
    "cerebro.broker.setcash(100000.0)\n",
    "cerebro.broker.setcommission(commission=0.001)\n",
    "#设置买入设置，策略，数量\n",
    "cerebro.addsizer(bt.sizers.FixedSize, stake=500) \n",
    "# 设置数据\n",
    "data = bt.feeds.PandasData(dataname=df) \n",
    "cerebro.adddata(data)\n",
    "logging.debug('Starting Portfolio Value: %.2f' % cerebro.broker.getvalue())\n",
    "cerebro.run()\n",
    "logging.debug('Final Portfolio Value: %.2f' % cerebro.broker.getvalue())\n"
   ]
  },
  {
   "cell_type": "code",
   "execution_count": null,
   "metadata": {},
   "outputs": [],
   "source": []
  }
 ]
}